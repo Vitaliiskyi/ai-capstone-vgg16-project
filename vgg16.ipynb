{
 "cells": [
  {
   "cell_type": "code",
   "execution_count": null,
   "metadata": {},
   "outputs": [],
   "source": []
  }
 ],
 "metadata": {
  "kernelspec": {
   "display_name": "base",
   "language": "python",
   "name": "python3"
  },
  "language_info": {
   "name": "python",
   "version": "3.9.12 (main, Apr  4 2022, 05:22:27) [MSC v.1916 64 bit (AMD64)]"
  },
  "orig_nbformat": 4,
  "vscode": {
   "interpreter": {
    "hash": "060d923b49e0239bbc366407d0b9a70fa0635340106b5274efadddcb0cfd84a6"
   }
  }
 },
 "nbformat": 4,
 "nbformat_minor": 2
}
