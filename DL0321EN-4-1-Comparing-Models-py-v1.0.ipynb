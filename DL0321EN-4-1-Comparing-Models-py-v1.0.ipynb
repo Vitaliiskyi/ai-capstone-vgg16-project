{
 "cells": [
  {
   "cell_type": "markdown",
   "metadata": {
    "button": false,
    "new_sheet": false,
    "run_control": {
     "read_only": false
    }
   },
   "source": [
    "<a href=\"https://cognitiveclass.ai\"><img src = \"https://s3-api.us-geo.objectstorage.softlayer.net/cf-courses-data/CognitiveClass/Logos/organization_logo/organization_logo.png\" width = 400> </a>\n",
    "\n",
    "<h1 align=center><font size = 5>Peer Review Final Assignment</font></h1>"
   ]
  },
  {
   "cell_type": "markdown",
   "metadata": {
    "button": false,
    "new_sheet": false,
    "run_control": {
     "read_only": false
    }
   },
   "source": [
    "## Introduction\n"
   ]
  },
  {
   "cell_type": "markdown",
   "metadata": {
    "button": false,
    "new_sheet": false,
    "run_control": {
     "read_only": false
    }
   },
   "source": [
    "In this lab, you will build an image classifier using the VGG16 pre-trained model, and you will evaluate it and compare its performance to the model we built in the last module using the ResNet50 pre-trained model. Good luck!"
   ]
  },
  {
   "cell_type": "markdown",
   "metadata": {
    "button": false,
    "new_sheet": false,
    "run_control": {
     "read_only": false
    }
   },
   "source": [
    "## Table of Contents\n",
    "\n",
    "<div class=\"alert alert-block alert-info\" style=\"margin-top: 20px\">\n",
    "\n",
    "<font size = 3>    \n",
    "\n",
    "1. <a href=\"#item41\">Download Data \n",
    "2. <a href=\"#item42\">Part 1</a>\n",
    "3. <a href=\"#item43\">Part 2</a>  \n",
    "4. <a href=\"#item44\">Part 3</a>  \n",
    "\n",
    "</font>\n",
    "    \n",
    "</div>"
   ]
  },
  {
   "cell_type": "markdown",
   "metadata": {
    "button": false,
    "new_sheet": false,
    "run_control": {
     "read_only": false
    }
   },
   "source": [
    "   "
   ]
  },
  {
   "cell_type": "markdown",
   "metadata": {},
   "source": [
    "<a id=\"item41\"></a>"
   ]
  },
  {
   "cell_type": "markdown",
   "metadata": {},
   "source": [
    "## Download Data"
   ]
  },
  {
   "cell_type": "markdown",
   "metadata": {},
   "source": [
    "Use the <code>wget</code> command to download the data for this assignment from here: https://s3-api.us-geo.objectstorage.softlayer.net/cf-courses-data/CognitiveClass/DL0321EN/data/concrete_data_week4.zip"
   ]
  },
  {
   "cell_type": "code",
   "execution_count": 1,
   "metadata": {},
   "outputs": [],
   "source": [
    "#!wget https://s3-api.us-geo.objectstorage.softlayer.net/cf-courses-data/CognitiveClass/DL0321EN/data/concrete_data_week4.zip"
   ]
  },
  {
   "cell_type": "code",
   "execution_count": 2,
   "metadata": {},
   "outputs": [],
   "source": [
    "#!unzip concrete_data_week4.zip"
   ]
  },
  {
   "cell_type": "code",
   "execution_count": 3,
   "metadata": {},
   "outputs": [],
   "source": [
    "from keras.preprocessing.image import ImageDataGenerator\n",
    "import keras\n",
    "from keras.models import Sequential\n",
    "from keras.layers import Dense\n",
    "from keras.models import load_model\n",
    "#from keras.applications import ResNet50\n",
    "#from keras.applications.resnet import preprocess_input, ResNet50\n",
    "from keras.applications.vgg16 import VGG16, preprocess_input\n",
    "import numpy as np\n"
   ]
  },
  {
   "cell_type": "code",
   "execution_count": 4,
   "metadata": {},
   "outputs": [],
   "source": [
    "num_classes = 2\n",
    "image_resize = 224\n",
    "batch_size_training = 100\n",
    "batch_size_validation = 100"
   ]
  },
  {
   "cell_type": "code",
   "execution_count": 5,
   "metadata": {},
   "outputs": [],
   "source": [
    "data_generator = ImageDataGenerator(preprocessing_function=preprocess_input)"
   ]
  },
  {
   "cell_type": "code",
   "execution_count": 6,
   "metadata": {},
   "outputs": [
    {
     "name": "stdout",
     "output_type": "stream",
     "text": [
      "Found 30001 images belonging to 2 classes.\n"
     ]
    }
   ],
   "source": [
    "train_generator = data_generator.flow_from_directory(\n",
    "    'concrete_data_week4/concrete_data_week4/train',\n",
    "    target_size=(image_resize, image_resize),\n",
    "    batch_size=batch_size_training,\n",
    "    class_mode='categorical')"
   ]
  },
  {
   "cell_type": "code",
   "execution_count": 7,
   "metadata": {},
   "outputs": [
    {
     "name": "stdout",
     "output_type": "stream",
     "text": [
      "Found 9501 images belonging to 2 classes.\n"
     ]
    }
   ],
   "source": [
    "validation_generator = data_generator.flow_from_directory(\n",
    "    'concrete_data_week4/concrete_data_week4/valid',\n",
    "    target_size=(image_resize, image_resize),\n",
    "    batch_size=batch_size_training,\n",
    "    class_mode='categorical')"
   ]
  },
  {
   "cell_type": "markdown",
   "metadata": {
    "button": false,
    "new_sheet": false,
    "run_control": {
     "read_only": false
    }
   },
   "source": [
    "<a id=\"item42\"></a>"
   ]
  },
  {
   "cell_type": "markdown",
   "metadata": {},
   "source": [
    "## Part 1"
   ]
  },
  {
   "cell_type": "markdown",
   "metadata": {},
   "source": [
    "In this part, you will design a classifier using the VGG16 pre-trained model. Just like the ResNet50 model, you can import the model <code>VGG16</code> from <code>keras.applications</code>."
   ]
  },
  {
   "cell_type": "markdown",
   "metadata": {},
   "source": [
    "You will essentially build your classifier as follows:\n",
    "1. Import libraries, modules, and packages you will need. Make sure to import the *preprocess_input* function from <code>keras.applications.vgg16</code>.\n",
    "2. Use a batch size of 100 images for both training and validation.\n",
    "3. Construct an ImageDataGenerator for the training set and another one for the validation set. VGG16 was originally trained on 224 × 224 images, so make sure to address that when defining the ImageDataGenerator instances.\n",
    "4. Create a sequential model using Keras. Add VGG16 model to it and dense layer.\n",
    "5. Compile the mode using the adam optimizer and the categorical_crossentropy loss function.\n",
    "6. Fit the model on the augmented data using the ImageDataGenerators."
   ]
  },
  {
   "cell_type": "markdown",
   "metadata": {},
   "source": [
    "Use the following cells to create your classifier."
   ]
  },
  {
   "cell_type": "code",
   "execution_count": 8,
   "metadata": {},
   "outputs": [],
   "source": [
    "model_vgg = Sequential()"
   ]
  },
  {
   "cell_type": "code",
   "execution_count": 9,
   "metadata": {},
   "outputs": [],
   "source": [
    "model_vgg.add(VGG16(include_top=False, pooling='avg', weights='imagenet' ))"
   ]
  },
  {
   "cell_type": "code",
   "execution_count": 10,
   "metadata": {},
   "outputs": [],
   "source": [
    "model_vgg.add(Dense(num_classes, activation='softmax'))"
   ]
  },
  {
   "cell_type": "code",
   "execution_count": 11,
   "metadata": {},
   "outputs": [
    {
     "data": {
      "text/plain": [
       "[<keras.engine.input_layer.InputLayer at 0x1a74f9f8bb0>,\n",
       " <keras.layers.convolutional.conv2d.Conv2D at 0x1a750369910>,\n",
       " <keras.layers.convolutional.conv2d.Conv2D at 0x1a750369b80>,\n",
       " <keras.layers.pooling.max_pooling2d.MaxPooling2D at 0x1a750412430>,\n",
       " <keras.layers.convolutional.conv2d.Conv2D at 0x1a750369e80>,\n",
       " <keras.layers.convolutional.conv2d.Conv2D at 0x1a750458ca0>,\n",
       " <keras.layers.pooling.max_pooling2d.MaxPooling2D at 0x1a750688a30>,\n",
       " <keras.layers.convolutional.conv2d.Conv2D at 0x1a75067d850>,\n",
       " <keras.layers.convolutional.conv2d.Conv2D at 0x1a75068d970>,\n",
       " <keras.layers.convolutional.conv2d.Conv2D at 0x1a75068dc10>,\n",
       " <keras.layers.pooling.max_pooling2d.MaxPooling2D at 0x1a75069d580>,\n",
       " <keras.layers.convolutional.conv2d.Conv2D at 0x1a7506931c0>,\n",
       " <keras.layers.convolutional.conv2d.Conv2D at 0x1a7506ae790>,\n",
       " <keras.layers.convolutional.conv2d.Conv2D at 0x1a7506aea00>,\n",
       " <keras.layers.pooling.max_pooling2d.MaxPooling2D at 0x1a7512df640>,\n",
       " <keras.layers.convolutional.conv2d.Conv2D at 0x1a7512d71c0>,\n",
       " <keras.layers.convolutional.conv2d.Conv2D at 0x1a7512e6e50>,\n",
       " <keras.layers.convolutional.conv2d.Conv2D at 0x1a7512e6c40>,\n",
       " <keras.layers.pooling.max_pooling2d.MaxPooling2D at 0x1a7512fb970>,\n",
       " <keras.layers.pooling.global_average_pooling2d.GlobalAveragePooling2D at 0x1a7512fb400>]"
      ]
     },
     "execution_count": 11,
     "metadata": {},
     "output_type": "execute_result"
    }
   ],
   "source": [
    "model_vgg.layers\n",
    "model_vgg.layers[0].layers"
   ]
  },
  {
   "cell_type": "code",
   "execution_count": 12,
   "metadata": {},
   "outputs": [],
   "source": [
    "model_vgg.layers[0].trainable = False"
   ]
  },
  {
   "cell_type": "code",
   "execution_count": 13,
   "metadata": {},
   "outputs": [
    {
     "name": "stdout",
     "output_type": "stream",
     "text": [
      "Model: \"sequential\"\n",
      "_________________________________________________________________\n",
      " Layer (type)                Output Shape              Param #   \n",
      "=================================================================\n",
      " vgg16 (Functional)          (None, 512)               14714688  \n",
      "                                                                 \n",
      " dense (Dense)               (None, 2)                 1026      \n",
      "                                                                 \n",
      "=================================================================\n",
      "Total params: 14,715,714\n",
      "Trainable params: 1,026\n",
      "Non-trainable params: 14,714,688\n",
      "_________________________________________________________________\n"
     ]
    }
   ],
   "source": [
    "model_vgg.summary()"
   ]
  },
  {
   "cell_type": "code",
   "execution_count": 14,
   "metadata": {},
   "outputs": [],
   "source": [
    "model_vgg.compile(optimizer='adam', loss='categorical_crossentropy', metrics=['accuracy'])"
   ]
  },
  {
   "cell_type": "code",
   "execution_count": 15,
   "metadata": {},
   "outputs": [],
   "source": [
    "steps_per_epoch_training = len(train_generator)\n",
    "steps_per_epoch_validation = len(validation_generator)\n",
    "num_epochs = 2"
   ]
  },
  {
   "cell_type": "code",
   "execution_count": 16,
   "metadata": {},
   "outputs": [
    {
     "name": "stderr",
     "output_type": "stream",
     "text": [
      "C:\\Users\\vadim\\AppData\\Local\\Temp\\ipykernel_5236\\783624917.py:1: UserWarning: `Model.fit_generator` is deprecated and will be removed in a future version. Please use `Model.fit`, which supports generators.\n",
      "  fit_history = model_vgg.fit_generator(\n"
     ]
    },
    {
     "name": "stdout",
     "output_type": "stream",
     "text": [
      "Epoch 1/2\n",
      "301/301 [==============================] - 2421s 8s/step - loss: 0.1129 - accuracy: 0.9608 - val_loss: 0.0256 - val_accuracy: 0.9941\n",
      "Epoch 2/2\n",
      "301/301 [==============================] - 2370s 8s/step - loss: 0.0189 - accuracy: 0.9954 - val_loss: 0.0155 - val_accuracy: 0.9959\n"
     ]
    }
   ],
   "source": [
    "# C:~\\Temp\\ipykernel_5236\\783624917.py:1:\n",
    "# UserWarning: `Model.fit_generator` is deprecated and will be removed in a future version. \n",
    "# Please use `Model.fit`, which supports generators. <- I need to use the corrected method, but I don't want to wait for training again\n",
    "# fit_history = model_vgg.fit_generator \n",
    "\n",
    "fit_history = model_vgg.fit_generator(\n",
    "   train_generator,\n",
    "   steps_per_epoch=steps_per_epoch_training,\n",
    "   epochs=num_epochs,\n",
    "   validation_data=validation_generator,\n",
    "   validation_steps=steps_per_epoch_validation,\n",
    "   verbose=1,\n",
    "   shuffle=False\n",
    ")"
   ]
  },
  {
   "cell_type": "code",
   "execution_count": null,
   "metadata": {},
   "outputs": [],
   "source": [
    "# =======For the convenience of verification, I will save the learning results as text=============\n",
    "# Epoch 1/2\n",
    "# 301/301 [==============================] - 2421s 8s/step - loss: 0.1129 - \n",
    "# accuracy: 0.9608 - val_loss: 0.0256 - val_accuracy: 0.9941\n",
    "\n",
    "# Epoch 2/2\n",
    "# 301/301 [==============================] - 2370s 8s/step - loss: 0.0189 - \n",
    "# accuracy: 0.9954 - val_loss: 0.0155 - val_accuracy: 0.9959"
   ]
  },
  {
   "cell_type": "code",
   "execution_count": 25,
   "metadata": {},
   "outputs": [],
   "source": [
    "model_vgg_saved = model_vgg.save('classifier_vgg16.h5')"
   ]
  },
  {
   "cell_type": "markdown",
   "metadata": {},
   "source": [
    "   "
   ]
  },
  {
   "cell_type": "markdown",
   "metadata": {},
   "source": [
    "<a id=\"item43\"></a>"
   ]
  },
  {
   "cell_type": "markdown",
   "metadata": {},
   "source": [
    "## Part 2"
   ]
  },
  {
   "cell_type": "markdown",
   "metadata": {},
   "source": [
    "In this part, you will evaluate your deep learning models on a test data. For this part, you will need to do the following:\n",
    "\n",
    "1. Load your saved model that was built using the ResNet50 model. \n",
    "2. Construct an ImageDataGenerator for the test set. For this ImageDataGenerator instance, you only need to pass the directory of the test images, target size, and the **shuffle** parameter and set it to False.\n",
    "3. Use the **evaluate_generator** method to evaluate your models on the test data, by passing the above ImageDataGenerator as an argument. You can learn more about **evaluate_generator** [here](https://keras.io/models/sequential/).\n",
    "4. Print the performance of the classifier using the VGG16 pre-trained model.\n",
    "5. Print the performance of the classifier using the ResNet pre-trained model.\n"
   ]
  },
  {
   "cell_type": "markdown",
   "metadata": {},
   "source": [
    "Use the following cells to evaluate your models."
   ]
  },
  {
   "cell_type": "code",
   "execution_count": 61,
   "metadata": {},
   "outputs": [],
   "source": [
    "model_resnet50 = keras.models.load_model('classifier_resnet_model.h5')\n",
    "model_vgg_saved = keras.models.load_model('classifier_vgg16.h5')\n",
    "\n"
   ]
  },
  {
   "cell_type": "code",
   "execution_count": 62,
   "metadata": {},
   "outputs": [
    {
     "name": "stdout",
     "output_type": "stream",
     "text": [
      "Found 500 images belonging to 2 classes.\n"
     ]
    }
   ],
   "source": [
    "testing_generator = data_generator.flow_from_directory(\n",
    "    'concrete_data_week4/concrete_data_week4/test',\n",
    "    target_size=(image_resize, image_resize),\n",
    "    batch_size=batch_size_training,\n",
    "    class_mode='categorical', shuffle=False)"
   ]
  },
  {
   "cell_type": "code",
   "execution_count": 63,
   "metadata": {},
   "outputs": [
    {
     "name": "stdout",
     "output_type": "stream",
     "text": [
      "5/5 [==============================] - 30s 6s/step - loss: 0.0135 - accuracy: 0.9960\n",
      "Performance of the VGG16-trained model\n",
      "Loss: 0.01353\n",
      "Accuracy: 0.996\n"
     ]
    }
   ],
   "source": [
    "performance_vgg = model_vgg_saved.evaluate(testing_generator)\n",
    "print(\"Performance of the VGG16-trained model\")\n",
    "print(\"Loss: {}\".format(round(performance_vgg[0], 5)))\n",
    "print(\"Accuracy: {}\".format(round(performance_vgg[1], 5)))\n"
   ]
  },
  {
   "cell_type": "code",
   "execution_count": 64,
   "metadata": {},
   "outputs": [
    {
     "name": "stdout",
     "output_type": "stream",
     "text": [
      "5/5 [==============================] - 13s 2s/step - loss: 0.0019 - accuracy: 1.0000\n",
      "Performance of the ResNet50-trained model\n",
      "Loss: 0.00188\n",
      "Accuracy: 1.0\n"
     ]
    }
   ],
   "source": [
    "performance_resnet50 = model_resnet50.evaluate(testing_generator)\n",
    "print(\"Performance of the ResNet50-trained model\")\n",
    "print(\"Loss: {}\".format(round(performance_resnet50[0], 5)))\n",
    "print(\"Accuracy: {}\".format(round(performance_resnet50[1], 5)))"
   ]
  },
  {
   "cell_type": "markdown",
   "metadata": {},
   "source": [
    "   "
   ]
  },
  {
   "cell_type": "markdown",
   "metadata": {},
   "source": [
    "<a id=\"item44\"></a>"
   ]
  },
  {
   "cell_type": "markdown",
   "metadata": {},
   "source": [
    "## Part 3"
   ]
  },
  {
   "cell_type": "markdown",
   "metadata": {},
   "source": [
    "In this model, you will predict whether the images in the test data are images of cracked concrete or not. You will do the following:\n",
    "\n",
    "1. Use the **predict_generator** method to predict the class of the images in the test data, by passing the test data ImageDataGenerator instance defined in the previous part as an argument. You can learn more about the **predict_generator** method [here](https://keras.io/models/sequential/).\n",
    "2. Report the class predictions of the first five images in the test set. You should print something list this:\n",
    "\n",
    "<center>\n",
    "    <ul style=\"list-style-type:none\">\n",
    "        <li>Positive</li>  \n",
    "        <li>Negative</li> \n",
    "        <li>Positive</li>\n",
    "        <li>Positive</li>\n",
    "        <li>Negative</li>\n",
    "    </ul>\n",
    "</center>"
   ]
  },
  {
   "cell_type": "markdown",
   "metadata": {},
   "source": [
    "Use the following cells to make your predictions."
   ]
  },
  {
   "cell_type": "code",
   "execution_count": 65,
   "metadata": {},
   "outputs": [
    {
     "name": "stdout",
     "output_type": "stream",
     "text": [
      "1/1 [==============================] - 6s 6s/step\n"
     ]
    }
   ],
   "source": [
    "prediction_vgg = model_vgg.predict(testing_generator, steps = 1)\n",
    "\n",
    "def print_res_predict(prediction):\n",
    "    if prediction[0] > prediction[1]:\n",
    "        print(f\"Predict is Negative {round(prediction[0]*100,2)}% guaranty\")\n",
    "    elif prediction[0] < prediction[1]:\n",
    "        print(f\"Predict is Positive {round(prediction[1]*100,2)}% guaranty\")\n",
    "    else:\n",
    "        print(\"Result not guaranteed\")"
   ]
  },
  {
   "cell_type": "code",
   "execution_count": 66,
   "metadata": {},
   "outputs": [
    {
     "name": "stdout",
     "output_type": "stream",
     "text": [
      "===== Predictions for the VGG16 model, for the 5 examples: =====\n",
      "\n",
      "Predict is Negative 99.68% guaranty\n",
      "Predict is Negative 96.7% guaranty\n",
      "Predict is Negative 97.92% guaranty\n",
      "Predict is Negative 99.64% guaranty\n",
      "Predict is Negative 98.87% guaranty\n"
     ]
    }
   ],
   "source": [
    "print(\"===== Predictions for the VGG16 model, for the 5 examples: =====\")\n",
    "print()\n",
    "for i in range(5):\n",
    "    \n",
    "    print_res_predict(prediction_vgg[i])"
   ]
  },
  {
   "cell_type": "code",
   "execution_count": 67,
   "metadata": {
    "scrolled": true
   },
   "outputs": [
    {
     "name": "stdout",
     "output_type": "stream",
     "text": [
      "1/1 [==============================] - 3s 3s/step\n",
      "First five predictions for the ResNet50-trained model:\n",
      "Predict is Negative 99.98% guaranty\n",
      "Predict is Negative 99.93% guaranty\n",
      "Predict is Negative 99.86% guaranty\n",
      "Predict is Negative 99.93% guaranty\n",
      "Predict is Negative 99.93% guaranty\n"
     ]
    }
   ],
   "source": [
    "predictions_resnet = model_resnet50.predict(testing_generator, steps=1)\n",
    "print(\"First five predictions for the ResNet50-trained model:\")\n",
    "for i in range(5):\n",
    "    print_res_predict(predictions_resnet[i])\n"
   ]
  },
  {
   "cell_type": "markdown",
   "metadata": {},
   "source": [
    "  "
   ]
  },
  {
   "cell_type": "markdown",
   "metadata": {
    "button": false,
    "new_sheet": false,
    "run_control": {
     "read_only": false
    }
   },
   "source": [
    "### Thank you for completing this lab!\n",
    "\n",
    "This notebook was created by Alex Aklson."
   ]
  },
  {
   "cell_type": "markdown",
   "metadata": {
    "button": false,
    "new_sheet": false,
    "run_control": {
     "read_only": false
    }
   },
   "source": [
    "This notebook is part of a course on **Coursera** called *AI Capstone Project with Deep Learning*. If you accessed this notebook outside the course, you can take this course online by clicking [here](https://cocl.us/DL0321EN_Coursera_Week4_LAB1)."
   ]
  },
  {
   "cell_type": "markdown",
   "metadata": {
    "button": false,
    "new_sheet": false,
    "run_control": {
     "read_only": false
    }
   },
   "source": [
    "<hr>\n",
    "\n",
    "Copyright &copy; 2020 [IBM Developer Skills Network](https://cognitiveclass.ai/?utm_source=bducopyrightlink&utm_medium=dswb&utm_campaign=bdu). This notebook and its source code are released under the terms of the [MIT License](https://bigdatauniversity.com/mit-license/)."
   ]
  }
 ],
 "metadata": {
  "kernelspec": {
   "display_name": "base",
   "language": "python",
   "name": "python3"
  },
  "language_info": {
   "codemirror_mode": {
    "name": "ipython",
    "version": 3
   },
   "file_extension": ".py",
   "mimetype": "text/x-python",
   "name": "python",
   "nbconvert_exporter": "python",
   "pygments_lexer": "ipython3",
   "version": "3.9.12 (main, Apr  4 2022, 05:22:27) [MSC v.1916 64 bit (AMD64)]"
  },
  "vscode": {
   "interpreter": {
    "hash": "060d923b49e0239bbc366407d0b9a70fa0635340106b5274efadddcb0cfd84a6"
   }
  }
 },
 "nbformat": 4,
 "nbformat_minor": 4
}
